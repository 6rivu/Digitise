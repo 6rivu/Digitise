{
 "cells": [
  {
   "cell_type": "code",
   "execution_count": 4,
   "id": "393bf262",
   "metadata": {},
   "outputs": [
    {
     "ename": "ModuleNotFoundError",
     "evalue": "No module named 'bardapi'",
     "output_type": "error",
     "traceback": [
      "\u001b[1;31m---------------------------------------------------------------------------\u001b[0m",
      "\u001b[1;31mModuleNotFoundError\u001b[0m                       Traceback (most recent call last)",
      "\u001b[1;32mC:\\Users\\SIVADO~1\\AppData\\Local\\Temp/ipykernel_7456/2993835723.py\u001b[0m in \u001b[0;36m<module>\u001b[1;34m\u001b[0m\n\u001b[1;32m----> 1\u001b[1;33m \u001b[1;32mfrom\u001b[0m \u001b[0mbardapi\u001b[0m \u001b[1;32mimport\u001b[0m \u001b[0mBard\u001b[0m\u001b[1;33m\u001b[0m\u001b[1;33m\u001b[0m\u001b[0m\n\u001b[0m",
      "\u001b[1;31mModuleNotFoundError\u001b[0m: No module named 'bardapi'"
     ]
    }
   ],
   "source": [
    "from bardapi import Bard"
   ]
  },
  {
   "cell_type": "code",
   "execution_count": 3,
   "id": "bf975570",
   "metadata": {},
   "outputs": [
    {
     "name": "stdout",
     "output_type": "stream",
     "text": [
      "Requirement already satisfied: bardapi in c:\\users\\siva dogga\\documents\\apps\\backend\\myenv\\lib\\site-packages (0.1.11)"
     ]
    },
    {
     "name": "stderr",
     "output_type": "stream",
     "text": [
      "\n",
      "[notice] A new release of pip available: 22.2.2 -> 23.1.2\n",
      "[notice] To update, run: python.exe -m pip install --upgrade pip\n"
     ]
    },
    {
     "name": "stdout",
     "output_type": "stream",
     "text": [
      "\n",
      "Requirement already satisfied: requests in c:\\users\\siva dogga\\documents\\apps\\backend\\myenv\\lib\\site-packages (from bardapi) (2.31.0)\n",
      "Requirement already satisfied: charset-normalizer<4,>=2 in c:\\users\\siva dogga\\documents\\apps\\backend\\myenv\\lib\\site-packages (from requests->bardapi) (3.1.0)\n",
      "Requirement already satisfied: certifi>=2017.4.17 in c:\\users\\siva dogga\\documents\\apps\\backend\\myenv\\lib\\site-packages (from requests->bardapi) (2023.5.7)\n",
      "Requirement already satisfied: urllib3<3,>=1.21.1 in c:\\users\\siva dogga\\documents\\apps\\backend\\myenv\\lib\\site-packages (from requests->bardapi) (2.0.2)\n",
      "Requirement already satisfied: idna<4,>=2.5 in c:\\users\\siva dogga\\documents\\apps\\backend\\myenv\\lib\\site-packages (from requests->bardapi) (3.4)\n"
     ]
    }
   ],
   "source": [
    "!pip install bardapi"
   ]
  },
  {
   "cell_type": "code",
   "execution_count": 6,
   "id": "1338fd95",
   "metadata": {},
   "outputs": [
    {
     "ename": "ModuleNotFoundError",
     "evalue": "No module named 'bardapi'",
     "output_type": "error",
     "traceback": [
      "\u001b[1;31m---------------------------------------------------------------------------\u001b[0m",
      "\u001b[1;31mModuleNotFoundError\u001b[0m                       Traceback (most recent call last)",
      "\u001b[1;32mC:\\Users\\SIVADO~1\\AppData\\Local\\Temp/ipykernel_5336/1518488527.py\u001b[0m in \u001b[0;36m<module>\u001b[1;34m\u001b[0m\n\u001b[1;32m----> 1\u001b[1;33m \u001b[1;32mimport\u001b[0m \u001b[0mbardapi\u001b[0m\u001b[1;33m\u001b[0m\u001b[1;33m\u001b[0m\u001b[0m\n\u001b[0m",
      "\u001b[1;31mModuleNotFoundError\u001b[0m: No module named 'bardapi'"
     ]
    }
   ],
   "source": [
    "import bardapi"
   ]
  },
  {
   "cell_type": "code",
   "execution_count": null,
   "id": "f6ab103c",
   "metadata": {},
   "outputs": [],
   "source": [
    "from bardapi import Bard\n",
    "\n",
    "token = 'xxxxxxxxxx'\n",
    "bard = Bard(token=token)\n",
    "bard.get_answer(\"dcuyduididiu\")['content']"
   ]
  }
 ],
 "metadata": {
  "kernelspec": {
   "display_name": "Python 3 (ipykernel)",
   "language": "python",
   "name": "python3"
  },
  "language_info": {
   "codemirror_mode": {
    "name": "ipython",
    "version": 3
   },
   "file_extension": ".py",
   "mimetype": "text/x-python",
   "name": "python",
   "nbconvert_exporter": "python",
   "pygments_lexer": "ipython3",
   "version": "3.9.0"
  }
 },
 "nbformat": 4,
 "nbformat_minor": 5
}
